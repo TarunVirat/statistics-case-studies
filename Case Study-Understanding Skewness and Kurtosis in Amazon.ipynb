{
 "cells": [
  {
   "cell_type": "markdown",
   "id": "56c9367a-07a0-4e0e-b1d7-bfeafc8dd132",
   "metadata": {},
   "source": [
    "### Case Study: Understanding Skewness and Kurtosis in Amazon’s Product Reviews\n",
    "\n",
    "#### Introduction\n",
    "\n",
    "This case study aims to explore two statistical measures, skewness and kurtosis, using the number of reviews received by products sold on Amazon. Skewness indicates the asymmetry of the distribution of data around the mean, and kurtosis indicates the \"tailedness\" of the distribution. By examining these metrics, we can gain insights into the behavior of Amazon customers and the performance of products.\n",
    "\n",
    "#### Data Overview\n",
    "\n",
    "For this case study, we assume a hypothetical dataset consisting of the number of reviews per product on Amazon over a certain period. The dataset includes a range of products with varying popularity and customer engagement.\n",
    "\n",
    "#### Analyzing Skewness\n",
    "\n",
    "Skewness measures the asymmetry of the data distribution. A skewness value:\n",
    "\n",
    "*   Greater than 0 indicates a distribution with a long tail on the right side (positively skewed).\n",
    "    \n",
    "*   Less than 0 indicates a distribution with a long tail on the left side (negatively skewed).\n",
    "    \n",
    "*   Equal to 0 suggests a symmetric distribution.\n",
    "    \n",
    "\n",
    "**Hypothesis:** The distribution of reviews per product is positively skewed, as most products receive a few reviews while a small number receive many reviews.\n",
    "\n",
    "#### Analyzing Kurtosis\n",
    "\n",
    "Kurtosis measures the tailedness of the distribution. A kurtosis value:\n",
    "\n",
    "*   Greater than 3 indicates a leptokurtic distribution, which has heavier tails. This suggests more outliers.\n",
    "    \n",
    "*   Less than 3 indicates a platykurtic distribution, with lighter tails.\n",
    "    \n",
    "*   Equal to 3 (mesokurtic) resembles a normal distribution.\n",
    "    \n",
    "\n",
    "**Hypothesis:** The distribution of reviews per product is leptokurtic, suggesting the presence of products with an unusually high number of reviews.\n",
    "\n",
    "#### Data Simulation\n",
    "\n",
    "We will simulate data for 10,000 products where the number of reviews follows a certain distribution that we expect to be skewed and leptokurtic.\n",
    "\n",
    "#### Analysis\n",
    "\n",
    "Let’s generate the simulated data and calculate the skewness and kurtosis. Then, we will plot the distribution of reviews to visually assess these characteristics."
   ]
  },
  {
   "cell_type": "code",
   "execution_count": 15,
   "id": "0c28d4de-c433-43dc-b30c-ce4389729356",
   "metadata": {},
   "outputs": [],
   "source": [
    "import numpy as np\n",
    "import pandas as pd\n",
    "import matplotlib.pyplot as plt\n",
    "import seaborn as sns\n",
    "from scipy.stats import skew, kurtosis\n",
    "\n",
    "\n"
   ]
  },
  {
   "cell_type": "code",
   "execution_count": 31,
   "id": "5c3e4ccf-418b-4e6b-8012-4907b583f060",
   "metadata": {},
   "outputs": [],
   "source": [
    "# Simulate data\n",
    "np.random.seed(42)\n",
    "review_counts = np.random.lognormal(mean=1, sigma=1.5, size=10000)\n",
    "\n"
   ]
  },
  {
   "cell_type": "code",
   "execution_count": 33,
   "id": "4e6bdf75-f183-4137-8c99-96aa175e9b6b",
   "metadata": {},
   "outputs": [],
   "source": [
    "# Calculate skewness and kurtosis\n",
    "data_skewness = skew(review_counts)\n",
    "data_kurtosis = kurtosis(review_counts)  \n",
    "\n"
   ]
  },
  {
   "cell_type": "code",
   "execution_count": 34,
   "id": "d8720083-5739-40f2-8325-f677a300784c",
   "metadata": {},
   "outputs": [
    {
     "data": {
      "text/plain": [
       "16.469822681736744"
      ]
     },
     "execution_count": 34,
     "metadata": {},
     "output_type": "execute_result"
    }
   ],
   "source": [
    "data_skewness"
   ]
  },
  {
   "cell_type": "code",
   "execution_count": 36,
   "id": "19f18146-1dbe-4b3f-bdad-1ca373e1b5b3",
   "metadata": {},
   "outputs": [],
   "source": [
    "# Create a DataFrame\n",
    "df_reviews = pd.DataFrame(review_counts, columns=['Number of Reviews'])\n",
    "\n"
   ]
  },
  {
   "cell_type": "code",
   "execution_count": 37,
   "id": "f22c3291-e8da-4749-ad2c-1876f4fc7d7f",
   "metadata": {},
   "outputs": [
    {
     "data": {
      "text/html": [
       "<div>\n",
       "<style scoped>\n",
       "    .dataframe tbody tr th:only-of-type {\n",
       "        vertical-align: middle;\n",
       "    }\n",
       "\n",
       "    .dataframe tbody tr th {\n",
       "        vertical-align: top;\n",
       "    }\n",
       "\n",
       "    .dataframe thead th {\n",
       "        text-align: right;\n",
       "    }\n",
       "</style>\n",
       "<table border=\"1\" class=\"dataframe\">\n",
       "  <thead>\n",
       "    <tr style=\"text-align: right;\">\n",
       "      <th></th>\n",
       "      <th>Number of Reviews</th>\n",
       "    </tr>\n",
       "  </thead>\n",
       "  <tbody>\n",
       "    <tr>\n",
       "      <th>0</th>\n",
       "      <td>5.726309</td>\n",
       "    </tr>\n",
       "    <tr>\n",
       "      <th>1</th>\n",
       "      <td>2.209141</td>\n",
       "    </tr>\n",
       "    <tr>\n",
       "      <th>2</th>\n",
       "      <td>7.181676</td>\n",
       "    </tr>\n",
       "    <tr>\n",
       "      <th>3</th>\n",
       "      <td>26.696829</td>\n",
       "    </tr>\n",
       "    <tr>\n",
       "      <th>4</th>\n",
       "      <td>1.913186</td>\n",
       "    </tr>\n",
       "    <tr>\n",
       "      <th>...</th>\n",
       "      <td>...</td>\n",
       "    </tr>\n",
       "    <tr>\n",
       "      <th>9995</th>\n",
       "      <td>19.137564</td>\n",
       "    </tr>\n",
       "    <tr>\n",
       "      <th>9996</th>\n",
       "      <td>0.135672</td>\n",
       "    </tr>\n",
       "    <tr>\n",
       "      <th>9997</th>\n",
       "      <td>0.943673</td>\n",
       "    </tr>\n",
       "    <tr>\n",
       "      <th>9998</th>\n",
       "      <td>5.718167</td>\n",
       "    </tr>\n",
       "    <tr>\n",
       "      <th>9999</th>\n",
       "      <td>7.146214</td>\n",
       "    </tr>\n",
       "  </tbody>\n",
       "</table>\n",
       "<p>10000 rows × 1 columns</p>\n",
       "</div>"
      ],
      "text/plain": [
       "      Number of Reviews\n",
       "0              5.726309\n",
       "1              2.209141\n",
       "2              7.181676\n",
       "3             26.696829\n",
       "4              1.913186\n",
       "...                 ...\n",
       "9995          19.137564\n",
       "9996           0.135672\n",
       "9997           0.943673\n",
       "9998           5.718167\n",
       "9999           7.146214\n",
       "\n",
       "[10000 rows x 1 columns]"
      ]
     },
     "execution_count": 37,
     "metadata": {},
     "output_type": "execute_result"
    }
   ],
   "source": [
    "df_reviews"
   ]
  },
  {
   "cell_type": "code",
   "execution_count": 38,
   "id": "742117fe-4d15-4cfa-b8a4-a2352bcec714",
   "metadata": {},
   "outputs": [
    {
     "data": {
      "image/png": "[encoded data removed]",
      "text/plain": [
       "<Figure size 1200x600 with 1 Axes>"
      ]
     },
     "metadata": {},
     "output_type": "display_data"
    }
   ],
   "source": [
    "# Plotting\n",
    "plt.figure(figsize=(12, 6))\n",
    "sns.histplot(df_reviews['Number of Reviews'], kde=True, color='blue')\n",
    "plt.title('Distribution of Amazon Product Reviews')\n",
    "plt.xlabel('Number of Reviews')\n",
    "plt.ylabel('Frequency')\n",
    "plt.show()\n",
    "\n"
   ]
  },
  {
   "cell_type": "code",
   "execution_count": 5,
   "id": "274e2832-0178-48cb-81b5-9d49c902e5b9",
   "metadata": {},
   "outputs": [
    {
     "name": "stdout",
     "output_type": "stream",
     "text": [
      "Skewness of the distribution: 16.469822681736744\n",
      "Kurtosis of the distribution: 486.3441862481791\n"
     ]
    }
   ],
   "source": [
    "# Print skewness and kurtosis\n",
    "print(\"Skewness of the distribution:\", data_skewness)\n",
    "print(\"Kurtosis of the distribution:\", data_kurtosis)"
   ]
  },
  {
   "cell_type": "markdown",
   "id": "71816171-8a73-4946-87c5-bd98f1dd545e",
   "metadata": {},
   "source": [
    "#### Interpretation\n",
    "\n",
    "The graphical output and numerical values will help us determine if our hypotheses about the skewness and kurtosis are correct.\n",
    "\n",
    "#### Conclusion\n",
    "\n",
    "This case study demonstrates how skewness and kurtosis can provide insights into Amazon product reviews, highlighting trends and anomalies in customer engagement. These statistical measures help businesses understand consumer behavior better and adjust their strategies accordingly."
   ]
  },
  {
   "cell_type": "markdown",
   "id": "1fcab9c2-3147-4a05-888c-f0ce3dcb3078",
   "metadata": {},
   "source": [
    "### Analysis Results\n",
    "\n",
    "#### Distribution Plot\n",
    "\n",
    "The histogram of Amazon product reviews (see above) visually confirms our hypotheses about the data's distribution:\n",
    "\n",
    "*   The distribution is positively skewed, as evident from the long tail to the right. Most products have a few reviews, but a few products have a very high number of reviews.\n",
    "    \n",
    "*   The peak of the distribution is near the lower number of reviews, further indicating the concentration of data points in this range.\n",
    "    \n",
    "\n",
    "#### Statistical Measures\n",
    "\n",
    "*   **Skewness of the distribution:** 16.47\n",
    "    \n",
    "    *   This high positive value indicates a significant rightward skew, confirming our hypothesis that the number of reviews is positively skewed.\n",
    "        \n",
    "*   **Kurtosis of the distribution:** 486.34\n",
    "    \n",
    "    *   The extremely high kurtosis value suggests a leptokurtic distribution. This indicates that the distribution has heavy tails and a sharp peak, with significant presence of outliers representing products with a very high number of reviews.\n",
    "        \n",
    "\n",
    "#### Conclusion\n",
    "\n",
    "The analysis validates that the distribution of reviews per product on Amazon is both highly skewed and leptokurtic. This reflects a typical consumer behavior pattern on e-commerce platforms, where a small number of products attract a large majority of reviews. Understanding these aspects of data distribution can help Amazon and other e-commerce companies better understand customer engagement and tailor their marketing and inventory strategies accordingly. ​"
   ]
  },
  {
   "cell_type": "code",
   "execution_count": null,
   "id": "957bbe91-5602-45dd-8559-0f55c9559d8b",
   "metadata": {},
   "outputs": [],
   "source": []
  }
 ],
 "metadata": {
  "kernelspec": {
   "display_name": "Python 3 (ipykernel)",
   "language": "python",
   "name": "python3"
  },
  "language_info": {
   "codemirror_mode": {
    "name": "ipython",
    "version": 3
   },
   "file_extension": ".py",
   "mimetype": "text/x-python",
   "name": "python",
   "nbconvert_exporter": "python",
   "pygments_lexer": "ipython3",
   "version": "3.11.6"
  }
 },
 "nbformat": 4,
 "nbformat_minor": 5
}
